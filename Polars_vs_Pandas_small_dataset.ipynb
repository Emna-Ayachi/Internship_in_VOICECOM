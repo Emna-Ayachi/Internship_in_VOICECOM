{
 "cells": [
  {
   "cell_type": "code",
   "execution_count": 1,
   "id": "a6f0a2ce-ac5b-4526-acde-fec490cdc862",
   "metadata": {},
   "outputs": [],
   "source": [
    "#seeing the difference between pandas and polars on a small dataset"
   ]
  },
  {
   "cell_type": "code",
   "execution_count": 2,
   "id": "0737f6d2-a778-4662-95e6-43d9e8e1fefd",
   "metadata": {},
   "outputs": [],
   "source": [
    "import time\n",
    "import timeit\n",
    "import pandas as pd\n",
    "import polars as pl"
   ]
  },
  {
   "cell_type": "code",
   "execution_count": 3,
   "id": "449ef7e8-4a8e-4b22-8007-07ab10a1e845",
   "metadata": {},
   "outputs": [],
   "source": [
    "file_path=r\"C:\\Users\\MSI\\OneDrive\\Desktop\\voicecom\\export_emna.xlsx\""
   ]
  },
  {
   "cell_type": "code",
   "execution_count": 4,
   "id": "f406801c-5fa4-47c5-a2d9-1d5299fc8eaa",
   "metadata": {},
   "outputs": [
    {
     "data": {
      "text/plain": [
       "'reading an Excel file'"
      ]
     },
     "execution_count": 4,
     "metadata": {},
     "output_type": "execute_result"
    }
   ],
   "source": [
    "'''reading an Excel file'''"
   ]
  },
  {
   "cell_type": "code",
   "execution_count": 5,
   "id": "177d0749-1459-4538-b246-0ad210883e96",
   "metadata": {},
   "outputs": [
    {
     "name": "stdout",
     "output_type": "stream",
     "text": [
      "pandas.read_excel: 31.1120 seconds\n"
     ]
    }
   ],
   "source": [
    "# Pandas timing\n",
    "start = time.time()\n",
    "df = pd.read_excel(file_path)\n",
    "end = time.time()\n",
    "print(f\"pandas.read_excel: {end - start:.4f} seconds\")"
   ]
  },
  {
   "cell_type": "code",
   "execution_count": 6,
   "id": "b12ab31f-4ecb-4b36-a614-fcc9183ad974",
   "metadata": {},
   "outputs": [
    {
     "name": "stdout",
     "output_type": "stream",
     "text": [
      "polars.read_excel: 1.3647 seconds\n"
     ]
    }
   ],
   "source": [
    "# Polars timing\n",
    "start = time.time()\n",
    "df2 = pl.read_excel(file_path)\n",
    "end = time.time()\n",
    "print(f\"polars.read_excel: {end - start:.4f} seconds\")"
   ]
  },
  {
   "cell_type": "code",
   "execution_count": 8,
   "id": "cd4a517b-1ae9-40d2-92d8-09855fe783ff",
   "metadata": {},
   "outputs": [
    {
     "name": "stdout",
     "output_type": "stream",
     "text": [
      "Average pandas time: 25.554734 s\n",
      "Average polars time: 0.869356 s\n"
     ]
    }
   ],
   "source": [
    "pandas_time = timeit.timeit(\n",
    "    stmt=\"pd.read_excel(file_path)\",\n",
    "    number=3,\n",
    "    globals=globals()\n",
    ")\n",
    "\n",
    "polars_time = timeit.timeit(\n",
    "    stmt=\"pl.read_excel(file_path)\",\n",
    "    number=3,\n",
    "    globals=globals()\n",
    ")\n",
    "\n",
    "\n",
    "print(f\"Average pandas time: {pandas_time / 3:.6f} s\")\n",
    "print(f\"Average polars time: {polars_time / 3:.6f} s\")"
   ]
  },
  {
   "cell_type": "code",
   "execution_count": 9,
   "id": "f1bcddac-2e2d-4f28-a458-a843fee1bba3",
   "metadata": {},
   "outputs": [
    {
     "data": {
      "text/plain": [
       "'extracting sheets from Excel file'"
      ]
     },
     "execution_count": 9,
     "metadata": {},
     "output_type": "execute_result"
    }
   ],
   "source": [
    "'''extracting sheets from Excel file'''"
   ]
  },
  {
   "cell_type": "code",
   "execution_count": 11,
   "id": "e129eb69-7917-4c6c-962f-5728faf5a808",
   "metadata": {},
   "outputs": [
    {
     "name": "stdout",
     "output_type": "stream",
     "text": [
      "Average pandas time: 17.008204 s\n",
      "Average polars time: 17.072573 s\n"
     ]
    }
   ],
   "source": [
    "sheet_names_pd = timeit.timeit(\n",
    "    stmt=\"pd.ExcelFile(file_path).sheet_names\",\n",
    "    number=3,\n",
    "    globals=globals()\n",
    ") \n",
    "print(f\"Average pandas time: {sheet_names_pd / 3:.6f} s\")\n",
    "import openpyxl\n",
    "sheet_names_pl= timeit.timeit(\n",
    "\n",
    "    stmt=\"openpyxl.load_workbook(filename=file_path,read_only=True).sheetnames\",\n",
    "    number=3,\n",
    "    globals=globals()\n",
    ") \n",
    "print(f\"Average polars time: {sheet_names_pl / 3:.6f} s\")"
   ]
  },
  {
   "cell_type": "code",
   "execution_count": 12,
   "id": "d1e8a3f9-3f1a-49b6-86a6-e50cddeeb36a",
   "metadata": {},
   "outputs": [
    {
     "data": {
      "text/plain": [
       "'reading one sheet'"
      ]
     },
     "execution_count": 12,
     "metadata": {},
     "output_type": "execute_result"
    }
   ],
   "source": [
    "'''reading one sheet'''"
   ]
  },
  {
   "cell_type": "code",
   "execution_count": 13,
   "id": "07d16483-eb19-4c35-9855-fdddd72554ed",
   "metadata": {},
   "outputs": [
    {
     "name": "stdout",
     "output_type": "stream",
     "text": [
      "Average pandas time: 81.350899 s\n",
      "Average polars time: 4.964211 s\n"
     ]
    }
   ],
   "source": [
    "data_pandas=timeit.timeit(\n",
    "    stmt=\"pd.read_excel(pd.ExcelFile(file_path), sheet_name='Client_AFF_NRJ_VO_20250116')\",\n",
    "    number=3,\n",
    "    globals=globals()\n",
    ") \n",
    "print(f\"Average pandas time: {data_pandas / 3:.6f} s\")\n",
    "\n",
    "data_polars= timeit.timeit(\n",
    "    stmt=\"pl.read_excel(file_path, sheet_name='Client_AFF_NRJ_VO_20250116')\",\n",
    "    number=3,\n",
    "    globals=globals()\n",
    ")\n",
    "print(f\"Average polars time: {data_polars / 3:.6f} s\")"
   ]
  },
  {
   "cell_type": "code",
   "execution_count": null,
   "id": "9228ccef-dc1c-45a2-a218-85c8632e2e6c",
   "metadata": {},
   "outputs": [],
   "source": []
  }
 ],
 "metadata": {
  "kernelspec": {
   "display_name": "Python 3 (ipykernel)",
   "language": "python",
   "name": "python3"
  },
  "language_info": {
   "codemirror_mode": {
    "name": "ipython",
    "version": 3
   },
   "file_extension": ".py",
   "mimetype": "text/x-python",
   "name": "python",
   "nbconvert_exporter": "python",
   "pygments_lexer": "ipython3",
   "version": "3.12.7"
  }
 },
 "nbformat": 4,
 "nbformat_minor": 5
}
