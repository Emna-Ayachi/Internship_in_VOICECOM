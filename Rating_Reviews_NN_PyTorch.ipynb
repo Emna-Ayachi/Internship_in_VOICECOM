{
 "cells": [
  {
   "cell_type": "code",
   "execution_count": 1,
   "id": "adf93073-954c-4e22-9cca-1de380a53461",
   "metadata": {},
   "outputs": [],
   "source": [
    "import pandas as pd"
   ]
  },
  {
   "cell_type": "code",
   "execution_count": 2,
   "id": "e23ab76b-24c7-4a6e-a5d8-75f91a2b1adb",
   "metadata": {},
   "outputs": [
    {
     "name": "stdout",
     "output_type": "stream",
     "text": [
      "     rating                                             review\n",
      "0  negative  terrible place to work for i just heard a stor...\n",
      "1  negative   hours , minutes total time for an extremely s...\n",
      "2  negative  my less than stellar review is for service . w...\n",
      "3  negative  i m granting one star because there s no way t...\n",
      "4  negative  the food here is mediocre at best . i went aft...\n",
      "(56000, 2)\n",
      "Index(['rating', 'review'], dtype='object')\n",
      "rating    object\n",
      "review    object\n",
      "dtype: object\n",
      "          rating                                             review\n",
      "count      56000                                              56000\n",
      "unique         2                                              55993\n",
      "top     negative  i work a arrowhead in a smaller store so befor...\n",
      "freq       28000                                                  2\n",
      "rating    0\n",
      "review    0\n",
      "dtype: int64\n",
      "<class 'pandas.core.frame.DataFrame'>\n",
      "RangeIndex: 56000 entries, 0 to 55999\n",
      "Data columns (total 2 columns):\n",
      " #   Column  Non-Null Count  Dtype \n",
      "---  ------  --------------  ----- \n",
      " 0   rating  56000 non-null  object\n",
      " 1   review  56000 non-null  object\n",
      "dtypes: object(2)\n",
      "memory usage: 875.1+ KB\n",
      "None\n"
     ]
    }
   ],
   "source": [
    "file_path=r\"C:\\Users\\MSI\\OneDrive\\Desktop\\voicecom\\reviews.xlsx\"\n",
    "df = pd.read_excel(file_path)\n",
    "\n",
    "print(df.head())\n",
    "print(df.shape)\n",
    "print(df.columns)\n",
    "print(df.dtypes)\n",
    "print(df.describe())\n",
    "print(df.isnull().sum())\n",
    "print(df.info())"
   ]
  },
  {
   "cell_type": "code",
   "execution_count": 3,
   "id": "1423fd5f-9558-4c28-8825-563271809deb",
   "metadata": {},
   "outputs": [
    {
     "name": "stdout",
     "output_type": "stream",
     "text": [
      "     rating                                             review  label\n",
      "0  negative  terrible place to work for i just heard a stor...      0\n",
      "1  negative   hours , minutes total time for an extremely s...      0\n",
      "2  negative  my less than stellar review is for service . w...      0\n",
      "3  negative  i m granting one star because there s no way t...      0\n",
      "4  negative  the food here is mediocre at best . i went aft...      0\n"
     ]
    }
   ],
   "source": [
    "df[\"label\"] = df[\"rating\"].map({\"positive\": 1, \"negative\": 0})\n",
    "print(df.head())"
   ]
  },
  {
   "cell_type": "code",
   "execution_count": 4,
   "id": "2c8cbcd9-c575-4a6a-9920-46947b0fdce4",
   "metadata": {},
   "outputs": [],
   "source": [
    "import spacy"
   ]
  },
  {
   "cell_type": "code",
   "execution_count": 5,
   "id": "9b0c434d-1a91-4c3f-8ef4-abcf7bb55276",
   "metadata": {},
   "outputs": [],
   "source": [
    "nlp = spacy.load(\"en_core_web_sm\", disable=[\"parser\", \"ner\"])\n",
    "def batch_spacy_lemmas(texts):\n",
    "    docs = nlp.pipe(texts, batch_size=100, n_process=-1) \n",
    "    for doc in docs:\n",
    "        lemmas = [\n",
    "            token.lemma_.lower()\n",
    "            for token in doc\n",
    "            if not token.is_stop and not token.is_punct and not token.is_space and token.lemma_.isalpha()\n",
    "        ]\n",
    "        yield \" \".join(lemmas)"
   ]
  },
  {
   "cell_type": "code",
   "execution_count": null,
   "id": "909239f3-bb34-4f61-9965-5a513ebea14c",
   "metadata": {},
   "outputs": [],
   "source": [
    "df[\"lemmatized_review\"] = list(batch_spacy_lemmas(df[\"review\"]))"
   ]
  },
  {
   "cell_type": "code",
   "execution_count": null,
   "id": "a62a4feb-7f82-4297-abfb-30f9c52722db",
   "metadata": {},
   "outputs": [],
   "source": []
  },
  {
   "cell_type": "code",
   "execution_count": null,
   "id": "7722e560-6f39-43f1-b48e-9d0851aac678",
   "metadata": {},
   "outputs": [],
   "source": [
    "print(df[\"lemmatized_review\"][3])"
   ]
  },
  {
   "cell_type": "code",
   "execution_count": null,
   "id": "8ed24bec-39ef-41a2-b625-bbde84ffd487",
   "metadata": {},
   "outputs": [],
   "source": [
    "from collections import Counter\n",
    "\n",
    "def build_vocab(texts, min_freq=2, specials=[\"<pad>\", \"<unk>\"]):\n",
    "    counter = Counter()\n",
    "    for text in texts:\n",
    "        counter.update(text.split())\n",
    "    words = [w for w, c in counter.items() if c >= min_freq]\n",
    "    itos = specials + words\n",
    "    stoi = {word: i for i, word in enumerate(itos)}\n",
    "\n",
    "    return stoi, itos\n",
    "\n",
    "stoi, itos = build_vocab(df[\"lemmatized_review\"])\n",
    "\n",
    "def numericalize(text, stoi, max_len=100):\n",
    "    tokens = text.split()\n",
    "    ids = [stoi.get(t, stoi[\"<unk>\"]) for t in tokens[:max_len]]\n",
    "    ids += [stoi[\"<pad>\"]] * (max_len - len(ids))\n",
    "    return torch.tensor(ids, dtype=torch.long)\n",
    "\n"
   ]
  },
  {
   "cell_type": "code",
   "execution_count": null,
   "id": "6f2090c5-b82c-42e1-b55a-07b3b459a9a9",
   "metadata": {},
   "outputs": [],
   "source": [
    "import torch\n",
    "df[\"tensor_review\"] = df[\"lemmatized_review\"].apply(lambda x: numericalize(x, stoi, max_len=100))"
   ]
  },
  {
   "cell_type": "code",
   "execution_count": null,
   "id": "b7a661f4-f2be-4b52-9b27-52ab1603f40b",
   "metadata": {},
   "outputs": [],
   "source": [
    "print(df[\"lemmatized_review\"][3])\n",
    "print(df[\"tensor_review\"][3])"
   ]
  },
  {
   "cell_type": "code",
   "execution_count": null,
   "id": "91de1d56-c68c-4f2d-80c5-101e41e177ab",
   "metadata": {},
   "outputs": [],
   "source": [
    "from torch import nn\n",
    "from torch.nn.functional import binary_cross_entropy_with_logits\n",
    "from sklearn.metrics import precision_score, accuracy_score\n",
    "import numpy as np\n",
    "\n",
    "class ReviewClassifier(nn.Module):\n",
    "    def __init__(self, vocab_size, embed_dim=64, hidden_dim=32):\n",
    "        super().__init__()\n",
    "        self.embedding = nn.Embedding(vocab_size, embed_dim, padding_idx=0)\n",
    "        self.fc = nn.Sequential(\n",
    "            nn.Linear(embed_dim, hidden_dim),\n",
    "            nn.ReLU(),\n",
    "            nn.Linear(hidden_dim, 1)\n",
    "        )\n",
    "\n",
    "    def forward(self, x):\n",
    "        embedded = self.embedding(x)  \n",
    "        pooled = embedded.mean(dim=1)  \n",
    "        return self.fc(pooled).squeeze(1)  \n",
    "\n",
    "model = ReviewClassifier(vocab_size=len(stoi))\n",
    "optimizer = torch.optim.Adam(model.parameters(), lr=1e-3)\n",
    "criterion = nn.BCEWithLogitsLoss()\n"
   ]
  },
  {
   "cell_type": "code",
   "execution_count": null,
   "id": "578270a5-2c5f-4dc7-8b6f-e743c77b0d3a",
   "metadata": {},
   "outputs": [],
   "source": [
    "from torch.utils.data import DataLoader, TensorDataset, random_split\n",
    "\n",
    "\n",
    "X = torch.stack(df[\"tensor_review\"].tolist())\n",
    "y = torch.tensor(df[\"label\"].values, dtype=torch.float32)\n",
    "\n",
    "dataset = TensorDataset(X, y)\n",
    "train_size = int(0.8 * len(dataset))\n",
    "test_size = len(dataset) - train_size\n",
    "train_ds, test_ds = random_split(dataset, [train_size, test_size])\n",
    "\n",
    "train_loader = DataLoader(train_ds, batch_size=64, shuffle=True)\n",
    "test_loader = DataLoader(test_ds, batch_size=64)\n"
   ]
  },
  {
   "cell_type": "code",
   "execution_count": null,
   "id": "3b5095fd-da05-463b-9ff8-d592ec6f0f2e",
   "metadata": {},
   "outputs": [],
   "source": [
    "from torchmetrics.classification import BinaryAccuracy, BinaryPrecision\n",
    "accuracy_metric = BinaryAccuracy()\n",
    "precision_metric = BinaryPrecision()\n",
    "\n",
    "def run_epoch(model, loader, train=True):\n",
    "    if train:\n",
    "        model.train()\n",
    "    else:\n",
    "        model.eval()\n",
    "\n",
    "    total_loss = 0\n",
    "\n",
    "    \n",
    "    accuracy_metric.reset()\n",
    "    precision_metric.reset()\n",
    "\n",
    "    for texts, labels in loader:\n",
    "        if train:\n",
    "            optimizer.zero_grad()\n",
    "\n",
    "        logits = model(texts)\n",
    "        loss = criterion(logits, labels)\n",
    "        total_loss += loss.item()\n",
    "\n",
    "        probs = torch.sigmoid(logits)\n",
    "        preds = (probs >= 0.5).float() \n",
    "        labels = labels.float()\n",
    "\n",
    "        # Update metrics\n",
    "        accuracy_metric.update(preds, labels)\n",
    "        precision_metric.update(preds, labels)\n",
    "\n",
    "        if train:\n",
    "            loss.backward()\n",
    "            optimizer.step()\n",
    "\n",
    "    avg_loss = total_loss / len(loader)\n",
    "    acc = accuracy_metric.compute().item()\n",
    "    prec = precision_metric.compute().item()\n",
    "\n",
    "    return avg_loss, acc, prec\n"
   ]
  },
  {
   "cell_type": "code",
   "execution_count": null,
   "id": "b38231a5-6a31-4fd9-ae15-2218bac9f47a",
   "metadata": {},
   "outputs": [],
   "source": [
    "epochs = 100\n",
    "for epoch in range(1, epochs + 1):\n",
    "    train_loss, train_acc, train_prec = run_epoch(model, train_loader, train=True)\n",
    "    test_loss, test_acc, test_prec = run_epoch(model, test_loader, train=False)\n",
    "\n",
    "    print(f\"Epoch {epoch}:\")\n",
    "    print(f\"  Train  | Loss: {train_loss:.4f} | Acc: {train_acc:.4f} | Precision: {train_prec:.4f}\")\n",
    "    print(f\"  Test   | Loss: {test_loss:.4f} | Acc: {test_acc:.4f} | Precision: {test_prec:.4f}\")\n"
   ]
  },
  {
   "cell_type": "code",
   "execution_count": null,
   "id": "017dc0cb-bf27-42a4-a758-67dd6165b3a3",
   "metadata": {},
   "outputs": [],
   "source": []
  }
 ],
 "metadata": {
  "kernelspec": {
   "display_name": "Python 3 (ipykernel)",
   "language": "python",
   "name": "python3"
  },
  "language_info": {
   "codemirror_mode": {
    "name": "ipython",
    "version": 3
   },
   "file_extension": ".py",
   "mimetype": "text/x-python",
   "name": "python",
   "nbconvert_exporter": "python",
   "pygments_lexer": "ipython3",
   "version": "3.12.7"
  }
 },
 "nbformat": 4,
 "nbformat_minor": 5
}
